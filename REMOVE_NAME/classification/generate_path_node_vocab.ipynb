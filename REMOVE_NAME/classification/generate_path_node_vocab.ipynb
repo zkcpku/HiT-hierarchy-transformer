{
 "cells": [
  {
   "cell_type": "code",
   "execution_count": 1,
   "id": "c19a93f8",
   "metadata": {},
   "outputs": [],
   "source": [
    "import os\n",
    "import sys\n",
    "sys.path.append('../')\n",
    "from tqdm import tqdm\n",
    "from utils.vocab import *\n",
    "# from utils.treesitter2anytree import myparse,get_leaf_node_list\n",
    "import json\n",
    "lang = 'c1000'\n",
    "data_path = '/home/removename/workspace/data/codenet/processed_tokens_with_path/{}/'.format(str(lang))\n",
    "\n",
    "train_data_path = data_path + 'trainset.json'\n",
    "\n",
    "with open(train_data_path,'r') as f:\n",
    "    data = json.load(f)\n"
   ]
  },
  {
   "cell_type": "code",
   "execution_count": 2,
   "id": "dae7d9f6",
   "metadata": {},
   "outputs": [
    {
     "data": {
      "text/plain": [
       "300000"
      ]
     },
     "execution_count": 2,
     "metadata": {},
     "output_type": "execute_result"
    }
   ],
   "source": [
    "len(data)"
   ]
  },
  {
   "cell_type": "code",
   "execution_count": 4,
   "id": "d4f4a1be",
   "metadata": {},
   "outputs": [],
   "source": [
    "all_whole_paths = [e[-1] for e in data]"
   ]
  },
  {
   "cell_type": "code",
   "execution_count": 5,
   "id": "010a5d0a",
   "metadata": {},
   "outputs": [
    {
     "data": {
      "text/plain": [
       "300000"
      ]
     },
     "execution_count": 5,
     "metadata": {},
     "output_type": "execute_result"
    }
   ],
   "source": [
    "len(all_whole_paths)"
   ]
  },
  {
   "cell_type": "code",
   "execution_count": 6,
   "id": "d0734a66",
   "metadata": {},
   "outputs": [
    {
     "name": "stdout",
     "output_type": "stream",
     "text": [
      "300000\n",
      "[544, 80, 90, 392, 113, 86, 91, 128, 119, 433]\n",
      "81222423\n"
     ]
    },
    {
     "name": "stderr",
     "output_type": "stream",
     "text": [
      "100%|████████████████████████████████████████████████████████████████| 81222423/81222423 [09:09<00:00, 147774.27it/s]\n"
     ]
    }
   ],
   "source": [
    "print(len(all_whole_paths))\n",
    "print([len(e) for e in all_whole_paths][:10])\n",
    "all_whole_paths = [e for ee in all_whole_paths for e in ee]\n",
    "print(len(all_whole_paths))\n",
    "all_whole_paths = [e.split('|') for e in tqdm(all_whole_paths)]"
   ]
  },
  {
   "cell_type": "code",
   "execution_count": 7,
   "id": "98a00ee2",
   "metadata": {},
   "outputs": [
    {
     "data": {
      "text/plain": [
       "(81222423, 83)"
      ]
     },
     "execution_count": 7,
     "metadata": {},
     "output_type": "execute_result"
    }
   ],
   "source": [
    "len(all_whole_paths),max([len(e) for e in all_whole_paths])"
   ]
  },
  {
   "cell_type": "code",
   "execution_count": 8,
   "id": "61803403",
   "metadata": {},
   "outputs": [],
   "source": [
    "all_lens = [len(e) for e in all_whole_paths]"
   ]
  },
  {
   "cell_type": "code",
   "execution_count": 9,
   "id": "f58e433b",
   "metadata": {},
   "outputs": [
    {
     "data": {
      "text/plain": [
       "0.9990028369382676"
      ]
     },
     "execution_count": 9,
     "metadata": {},
     "output_type": "execute_result"
    }
   ],
   "source": [
    "len([e for e in all_lens if e <= 20]) / len(all_lens)"
   ]
  },
  {
   "cell_type": "code",
   "execution_count": null,
   "id": "a4fd867e",
   "metadata": {},
   "outputs": [],
   "source": [
    "import matplotlib.pyplot as plt\n",
    "train_path_lists = all_whole_paths\n",
    "all_paths = [e for ee in train_path_lists for e in ee]\n",
    "print(len(all_paths), len(set(all_paths)))\n",
    "all_paths_count = {}\n",
    "for p in all_paths:\n",
    "    if p in all_paths_count:\n",
    "        all_paths_count[p] += 1\n",
    "    else:\n",
    "        all_paths_count[p] = 1\n",
    "all_paths_count_list = [(k, v) for k, v in all_paths_count.items()]\n",
    "all_paths_count_list.sort(key=lambda x: x[1], reverse=True)\n",
    "print(\"singlton:\", len([e for e in all_paths_count_list if e[1] == 1]))\n",
    "all_coverage = []\n",
    "total_count = len(all_paths)\n",
    "now_count = 0\n",
    "for i in range(len(all_paths_count_list)):\n",
    "    now_count += all_paths_count_list[i][1]\n",
    "    all_coverage.append(now_count/total_count)\n",
    "\n",
    "plt.plot(all_coverage)\n",
    "plt.show()\n"
   ]
  },
  {
   "cell_type": "code",
   "execution_count": 27,
   "id": "9f8d694d",
   "metadata": {},
   "outputs": [
    {
     "data": {
      "text/plain": [
       "1.0"
      ]
     },
     "execution_count": 27,
     "metadata": {},
     "output_type": "execute_result"
    }
   ],
   "source": [
    "all_coverage[160]"
   ]
  },
  {
   "cell_type": "markdown",
   "id": "8bbbcb16",
   "metadata": {},
   "source": [
    "vocab_size = 161"
   ]
  },
  {
   "cell_type": "code",
   "execution_count": null,
   "id": "22c6d782",
   "metadata": {},
   "outputs": [],
   "source": []
  },
  {
   "cell_type": "code",
   "execution_count": 28,
   "id": "5a4eaa8e",
   "metadata": {},
   "outputs": [
    {
     "name": "stdout",
     "output_type": "stream",
     "text": [
      "number of word types: 161, number of word types w/ frequency > 1: 160\n",
      "number of singletons: 1\n",
      "number of word types not included: 0\n"
     ]
    }
   ],
   "source": [
    "seq_vocab = VocabEntry.from_corpus(all_whole_paths,size=300)"
   ]
  },
  {
   "cell_type": "code",
   "execution_count": 19,
   "id": "367fa8b9",
   "metadata": {},
   "outputs": [
    {
     "name": "stderr",
     "output_type": "stream",
     "text": [
      "100%|██████████| 95116409/95116409 [00:43<00:00, 2211858.80it/s]\n"
     ]
    },
    {
     "data": {
      "text/plain": [
       "1.0"
      ]
     },
     "execution_count": 19,
     "metadata": {},
     "output_type": "execute_result"
    }
   ],
   "source": [
    "len([e for e in tqdm(all_paths) if e in seq_vocab]) / len(all_paths)"
   ]
  },
  {
   "cell_type": "code",
   "execution_count": 29,
   "id": "93bf1e8c",
   "metadata": {},
   "outputs": [
    {
     "name": "stdout",
     "output_type": "stream",
     "text": [
      "/home/zhangkechi/workspace/TiT/save/codenet/python/path_node_vocab.pkl\n"
     ]
    }
   ],
   "source": [
    "save_pkl = '/home/removename/workspace/TiT/save/codenet/{}/path_node_vocab.pkl'.format(str(lang))\n",
    "print(save_pkl)"
   ]
  },
  {
   "cell_type": "code",
   "execution_count": 30,
   "id": "509ab918",
   "metadata": {},
   "outputs": [],
   "source": [
    "# import pickle\n",
    "# with open(save_pkl,'wb') as f:\n",
    "#     pickle.dump(seq_vocab,f)"
   ]
  },
  {
   "cell_type": "code",
   "execution_count": null,
   "id": "6c7aa318",
   "metadata": {},
   "outputs": [],
   "source": []
  }
 ],
 "metadata": {
  "interpreter": {
   "hash": "e5cb36c27a0d4ecadf4264ed543b0108783966a4f237415897f949a48c88c22a"
  },
  "kernelspec": {
   "display_name": "Python 3 (ipykernel)",
   "language": "python",
   "name": "python3"
  },
  "language_info": {
   "codemirror_mode": {
    "name": "ipython",
    "version": 3
   },
   "file_extension": ".py",
   "mimetype": "text/x-python",
   "name": "python",
   "nbconvert_exporter": "python",
   "pygments_lexer": "ipython3",
   "version": "3.7.11"
  }
 },
 "nbformat": 4,
 "nbformat_minor": 5
}
